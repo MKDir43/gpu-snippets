{
 "cells": [
  {
   "cell_type": "markdown",
   "metadata": {},
   "source": [
    "## GPUの理論性能計算"
   ]
  },
  {
   "cell_type": "markdown",
   "metadata": {},
   "source": [
    "http://optimisationcpugpu-hpc.blogspot.com/2012/10/how-to-calculate-flops-of-gpu.html"
   ]
  },
  {
   "cell_type": "code",
   "execution_count": 4,
   "metadata": {},
   "outputs": [],
   "source": [
    "import pycuda.autoinit\n",
    "import pycuda.driver as drv\n",
    "from pycuda.compiler import SourceModule\n",
    "import numpy"
   ]
  },
  {
   "cell_type": "code",
   "execution_count": 32,
   "metadata": {},
   "outputs": [],
   "source": [
    "def convert_SMVer2ArchName(major, minor):\n",
    "    n_GpuArch_NameSM = {\n",
    "        0x30: \"Kepler\",\n",
    "        0x32: \"Kepler\",\n",
    "        0x35: \"Kepler\",\n",
    "        0x37: \"Kepler\",\n",
    "        0x50: \"Maxwell\",\n",
    "        0x52: \"Maxwell\",\n",
    "        0x53: \"Maxwell\",\n",
    "        0x60: \"Pascal\",\n",
    "        0x61: \"Pascal\",\n",
    "        0x62: \"Pascal\",\n",
    "        0x70: \"Volta\",\n",
    "        0x72: \"Xavier\",\n",
    "        0x75: \"Turing\",\n",
    "        0x80: \"Ampere\",\n",
    "        0x86: \"Ampere\",\n",
    "    }\n",
    "\n",
    "    n_GpuArch_CoresPerSM = {\n",
    "        0x30: 192,\n",
    "        0x32: 192,\n",
    "        0x35: 192,\n",
    "        0x37: 192,\n",
    "        0x50: 128,\n",
    "        0x52: 128,\n",
    "        0x53: 128,\n",
    "        0x60:  64,\n",
    "        0x61: 128,\n",
    "        0x62: 128,\n",
    "        0x70:  64,\n",
    "        0x72:  64,\n",
    "        0x75:  64,\n",
    "        0x80:  64,\n",
    "        0x86: 128,\n",
    "    }\n",
    "    \n",
    "    key = (major << 4) + minor\n",
    "    arch_name = n_GpuArch_NameSM[key]\n",
    "    core_num  = n_GpuArch_CoresPerSM[key]\n",
    "    return arch_name, cores_per_sm"
   ]
  },
  {
   "cell_type": "markdown",
   "metadata": {},
   "source": [
    "### 1. GPUの浮動小数点演算性能(FLOPS)\n",
    "\n",
    "```\n",
    "1秒あたりの浮動小数点演算 = コア数 * SIMDユニット数 * ((muladdユニット数 * 2) + mulユニット数) * クロック速度\n",
    "flops = core_num * simd_num * ((mul_add_units)*2 + mul_units) * clock_rate\n",
    "```"
   ]
  },
  {
   "cell_type": "code",
   "execution_count": 42,
   "metadata": {},
   "outputs": [],
   "source": [
    "dev = pycuda.driver.Context.get_device()"
   ]
  },
  {
   "cell_type": "code",
   "execution_count": 43,
   "metadata": {},
   "outputs": [],
   "source": [
    "# SMごとのコア数の計算\n",
    "major = dev.get_attribute(pycuda._driver.device_attribute.COMPUTE_CAPABILITY_MAJOR)\n",
    "minor = dev.get_attribute(pycuda._driver.device_attribute.COMPUTE_CAPABILITY_MINOR)\n",
    "arch_name, cores_per_sm = convert_SMVer2ArchName(major, minor)"
   ]
  },
  {
   "cell_type": "code",
   "execution_count": 44,
   "metadata": {},
   "outputs": [],
   "source": [
    "# コア数の計算\n",
    "sm_num = dev.get_attribute(pycuda._driver.device_attribute.MULTIPROCESSOR_COUNT)\n",
    "core_num = cores_per_sm * sm_num"
   ]
  },
  {
   "cell_type": "code",
   "execution_count": 45,
   "metadata": {},
   "outputs": [],
   "source": [
    "# 演算ユニット数\n",
    "simd_num = 1\n",
    "mul_add_units = 1\n",
    "mul_units = 0"
   ]
  },
  {
   "cell_type": "code",
   "execution_count": 46,
   "metadata": {},
   "outputs": [],
   "source": [
    "# クロック速度\n",
    "clock_rate = dev.get_attribute(pycuda._driver.device_attribute.CLOCK_RATE) / 1000 / 1000"
   ]
  },
  {
   "cell_type": "code",
   "execution_count": 66,
   "metadata": {},
   "outputs": [
    {
     "name": "stdout",
     "output_type": "stream",
     "text": [
      "2876.16 GFLOPS\n"
     ]
    }
   ],
   "source": [
    "flops = core_num * simd_num * (mul_add_units * 2 + mul_units) * clock_rate\n",
    "print(\"{} GFLOPS\".format(flops))"
   ]
  },
  {
   "cell_type": "markdown",
   "metadata": {},
   "source": [
    "### 2. GPUのメモリ帯域幅\n",
    "\n",
    "```\n",
    "メモリ帯域幅 = メモリバス幅 * レーン数 * メモリクロック速度\n",
    "memory_bandwidth = memory_bus_width * memory_lane_num * memory_clock_rate\n",
    "```"
   ]
  },
  {
   "cell_type": "code",
   "execution_count": 63,
   "metadata": {},
   "outputs": [],
   "source": [
    "memory_bus_width = dev.get_attribute(pycuda._driver.device_attribute.GLOBAL_MEMORY_BUS_WIDTH) / 8\n",
    "memory_lane_num = 2\n",
    "memory_clock_rate = dev.get_attribute(pycuda._driver.device_attribute.MEMORY_CLOCK_RATE) / 1000 / 1000"
   ]
  },
  {
   "cell_type": "code",
   "execution_count": 67,
   "metadata": {},
   "outputs": [
    {
     "name": "stdout",
     "output_type": "stream",
     "text": [
      "192.032 GB/sec\n"
     ]
    }
   ],
   "source": [
    "memory_bandwidth = memory_bus_width * memory_lane_num * memory_clock_rate\n",
    "print(\"{} GB/sec\".format(memory_bandwidth))"
   ]
  },
  {
   "cell_type": "markdown",
   "metadata": {},
   "source": [
    "### 3. コアごとの演算器割り当て"
   ]
  },
  {
   "cell_type": "code",
   "execution_count": 69,
   "metadata": {},
   "outputs": [],
   "source": [
    "maxthreads_per_sm = dev.get_attribute(pycuda._driver.device_attribute.MAX_THREADS_PER_MULTIPROCESSOR)\n",
    "maxregs_per_sm = dev.get_attribute(pycuda._driver.device_attribute.MAX_REGISTERS_PER_MULTIPROCESSOR)\n",
    "maxsharedmem_per_sm = dev.get_attribute(pycuda._driver.device_attribute.MAX_SHARED_MEMORY_PER_MULTIPROCESSOR)\n",
    "l2_cache_size = dev.get_attribute(pycuda._driver.device_attribute.L2_CACHE_SIZE)\n",
    "constmem_size = dev.get_attribute(pycuda._driver.device_attribute.TOTAL_CONSTANT_MEMORY)"
   ]
  },
  {
   "cell_type": "code",
   "execution_count": 88,
   "metadata": {},
   "outputs": [
    {
     "name": "stdout",
     "output_type": "stream",
     "text": [
      "Thread:    16.0 threads/core\n",
      "Register:  1024.0 regs/core\n",
      "SharedMem: 1024.0 KB/core\n",
      "L2 cache:  1170.3 KB/core\n",
      "ConstMem:  73.1 KB/core\n"
     ]
    }
   ],
   "source": [
    "print(\"Thread:    {} threads/core\".format(maxthreads_per_sm/cores_per_sm))\n",
    "print(\"Register:  {} regs/core\".format(maxregs_per_sm/cores_per_sm))\n",
    "print(\"SharedMem: {} KB/core\".format(maxsharedmem_per_sm/cores_per_sm))\n",
    "print(\"L2 cache:  {:0.1f} KB/core\".format(l2_cache_size/core_num))\n",
    "print(\"ConstMem:  {:0.1f} KB/core\".format(constmem_size/core_num))"
   ]
  }
 ],
 "metadata": {
  "kernelspec": {
   "display_name": "Python 3",
   "language": "python",
   "name": "python3"
  },
  "language_info": {
   "codemirror_mode": {
    "name": "ipython",
    "version": 3
   },
   "file_extension": ".py",
   "mimetype": "text/x-python",
   "name": "python",
   "nbconvert_exporter": "python",
   "pygments_lexer": "ipython3",
   "version": "3.8.5"
  }
 },
 "nbformat": 4,
 "nbformat_minor": 4
}
