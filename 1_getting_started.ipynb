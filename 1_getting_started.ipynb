{
 "cells": [
  {
   "cell_type": "code",
   "execution_count": 1,
   "metadata": {},
   "outputs": [],
   "source": [
    "import pycuda.autoinit\n",
    "import pycuda.driver as drv\n",
    "from pycuda.compiler import SourceModule\n",
    "import numpy"
   ]
  },
  {
   "cell_type": "markdown",
   "metadata": {},
   "source": [
    "# CUDAデバイスの取得\n",
    "\n",
    "https://documen.tician.de/pycuda/util.html"
   ]
  },
  {
   "cell_type": "code",
   "execution_count": 2,
   "metadata": {},
   "outputs": [],
   "source": [
    "dev = pycuda.driver.Context.get_device()"
   ]
  },
  {
   "cell_type": "code",
   "execution_count": 3,
   "metadata": {},
   "outputs": [
    {
     "name": "stdout",
     "output_type": "stream",
     "text": [
      "compute capability: 7.5\n"
     ]
    }
   ],
   "source": [
    "print(\"compute capability: {}.{}\".format(*dev.compute_capability()))"
   ]
  },
  {
   "cell_type": "code",
   "execution_count": 4,
   "metadata": {},
   "outputs": [
    {
     "name": "stdout",
     "output_type": "stream",
     "text": [
      "global memory size: 3.813720703125 GB\n"
     ]
    }
   ],
   "source": [
    "print(\"global memory size: {} GB\".format(dev.total_memory()/1024/1024/1024))"
   ]
  },
  {
   "cell_type": "code",
   "execution_count": 5,
   "metadata": {},
   "outputs": [
    {
     "name": "stdout",
     "output_type": "stream",
     "text": [
      "pci bus id: 0000:01:00.0\n"
     ]
    }
   ],
   "source": [
    "print(\"pci bus id: {}\".format(dev.pci_bus_id()))"
   ]
  },
  {
   "cell_type": "code",
   "execution_count": 6,
   "metadata": {},
   "outputs": [
    {
     "name": "stdout",
     "output_type": "stream",
     "text": [
      "gpu count: 1 devices\n"
     ]
    }
   ],
   "source": [
    "print(\"gpu count: {} devices\".format(dev.count()))"
   ]
  },
  {
   "cell_type": "markdown",
   "metadata": {},
   "source": [
    "- 使用GPU: https://www.kuroutoshikou.com/product/graphics_bord/nvidia/gf-gtx1650d6-e4gb_df2/\n",
    "- NVIDIAのドキュメント: https://docs.nvidia.com/cuda/cuda-runtime-api/structcudaDeviceProp.html\n",
    "\n",
    "1. ASYNC_ENGINE_COUNT: 3\n",
    "    * Host->Device, Device->Host, NVLink\n",
    "    * https://stackoverflow.com/questions/60167094/clarification-of-asynchronous-engine-count-in-turing-architecture\n",
    "1. CAN_MAP_HOST_MEMORY: 1\n",
    "    * cudaHostAlloc/cudaHostGetDevicePointer でPage-lockedホストメモリを使用できる\n",
    "1. CLOCK_RATE: 1605000\n",
    "    * コアクロック(kHz)\n",
    "1. COMPUTE_CAPABILITY_MAJOR: 7\n",
    "    * CCメジャーバージョン\n",
    "1. COMPUTE_CAPABILITY_MINOR: 5\n",
    "    * CCマイナーバージョン\n",
    "1. COMPUTE_MODE: pycuda._driver.compute_mode.DEFAULT\n",
    "    * 使用プロセス/スレッドの設定\n",
    "    * コンピュートモード一覧: https://docs.nvidia.com/cuda/cuda-runtime-api/group__CUDART__TYPES.html#group__CUDART__TYPES_1g7eb25f5413a962faad0956d92bae10d0\n",
    "1. CONCURRENT_KERNELS: 1\n",
    "    * 並列実行できるカーネル数\n",
    "1. ECC_ENABLED: 0\n",
    "    * ECC(Error Correcting Code)の有無\n",
    "1. GLOBAL_L1_CACHE_SUPPORTED: 1\n",
    "    * グローバルメモリのデータをL1キャッシュ\n",
    "1. GLOBAL_MEMORY_BUS_WIDTH: 128\n",
    "    * グローバルメモリのバス幅(bit)\n",
    "1. GPU_OVERLAP: 1\n",
    "    * カーネル実行とメモリコピーを並列実行できる\n",
    "    * deprecated. ASYNC_ENGINE_COUNTを使用する \n",
    "1. INTEGRATED: 0\n",
    "    * Tegraなどのようにデバイスが統合されている\n",
    "1. KERNEL_EXEC_TIMEOUT: 1\n",
    "    * カーネルタイムアウト時間を設定している\n",
    "1. L2_CACHE_SIZE: 1048576\n",
    "    * L2キャッシュサイズ (byte)\n",
    "1. LOCAL_L1_CACHE_SUPPORTED: 1\n",
    "    * L1キャッシュにローカルメモリをサポートしている\n",
    "1. MANAGED_MEMORY: 1\n",
    "    * managed memoryをシステムに設定できる\n",
    "1. MAXIMUM_SURFACE1D_LAYERED_LAYERS: 2048\n",
    "    * Layered 1DSurfaceメモリの最大次元数\n",
    "1. MAXIMUM_SURFACE1D_LAYERED_WIDTH: 32768\n",
    "    * Layered 1DSurfaceメモリの最大サイズ\n",
    "1. MAXIMUM_SURFACE1D_WIDTH: 32768\n",
    "    * 1DSurfaceメモリの最大サイズ\n",
    "1. MAXIMUM_SURFACE2D_HEIGHT: 65536\n",
    "    * 2DSurfaceメモリの最大高さ\n",
    "1. MAXIMUM_SURFACE2D_WIDTH: 131072\n",
    "    * 2DSurfaceメモリの最大幅\n",
    "1. MAXIMUM_SURFACE2D_LAYERED_LAYERS: 2048\n",
    "    * Layered 2DSurfaceメモリの最大次元数\n",
    "1. MAXIMUM_SURFACE2D_LAYERED_HEIGHT: 32768\n",
    "    * Layered 2DSurfaceメモリの最大高さ\n",
    "1. MAXIMUM_SURFACE2D_LAYERED_WIDTH: 32768\n",
    "    * Layered 2DSurfaceメモリの最大幅\n",
    "1. MAXIMUM_SURFACE3D_HEIGHT: 16384\n",
    "    * 3DSurfaceメモリの最大高さ\n",
    "1. MAXIMUM_SURFACE3D_WIDTH: 16384\n",
    "    * 3DSurfaceメモリの最大幅\n",
    "1. MAXIMUM_SURFACE3D_DEPTH: 16384\n",
    "    * 3DSurfaceメモリの最大深度\n",
    "1. MAXIMUM_SURFACECUBEMAP_LAYERED_LAYERS: 2046\n",
    "    * Layered CubeMapメモリの最大次元数\n",
    "1. MAXIMUM_SURFACECUBEMAP_LAYERED_WIDTH: 32768\n",
    "    * Layered CubeMapメモリの最大幅\n",
    "1. MAXIMUM_SURFACECUBEMAP_WIDTH: 32768\n",
    "    * CubeMapメモリの最大幅\n",
    "1. MAXIMUM_TEXTURE1D_LAYERED_LAYERS: 2048\n",
    "    * Layered 1DTextureメモリの最大次元数\n",
    "1. MAXIMUM_TEXTURE1D_LAYERED_WIDTH: 32768\n",
    "    * Layered 1DTextureメモリの最大サイズ\n",
    "1. MAXIMUM_TEXTURE1D_WIDTH: 131072\n",
    "    * 1DTextureメモリの最大サイズ\n",
    "1. MAXIMUM_TEXTURE1D_LINEAR_WIDTH: 268435456\n",
    "    * 1DLinearTextureメモリの最大サイズ\n",
    "1. MAXIMUM_TEXTURE1D_MIPMAPPED_WIDTH: 32768\n",
    "    * 1DMipMapTextureメモリの最大サイズ\n",
    "1. MAXIMUM_TEXTURE2D_ARRAY_NUMSLICES: 2048,\n",
    "1. MAXIMUM_TEXTURE2D_ARRAY_HEIGHT: 32768,\n",
    "1. MAXIMUM_TEXTURE2D_ARRAY_WIDTH: 32768,\n",
    "1. MAXIMUM_TEXTURE2D_GATHER_HEIGHT: 32768,\n",
    "1. MAXIMUM_TEXTURE2D_GATHER_WIDTH: 32768,\n",
    "1. MAXIMUM_TEXTURE2D_LINEAR_HEIGHT: 65000,\n",
    "1. MAXIMUM_TEXTURE2D_LINEAR_PITCH: 2097120,\n",
    "1. MAXIMUM_TEXTURE2D_LINEAR_WIDTH: 131072,\n",
    "1. MAXIMUM_TEXTURE2D_MIPMAPPED_HEIGHT: 32768,\n",
    "1. MAXIMUM_TEXTURE2D_MIPMAPPED_WIDTH: 32768,\n",
    "1. MAXIMUM_TEXTURE2D_HEIGHT: 65536,\n",
    "1. MAXIMUM_TEXTURE2D_WIDTH: 131072,\n",
    "1. MAXIMUM_TEXTURE3D_DEPTH: 16384,\n",
    "1. MAXIMUM_TEXTURE3D_DEPTH_ALTERNATE: 32768,\n",
    "1. MAXIMUM_TEXTURE3D_HEIGHT: 16384,\n",
    "1. MAXIMUM_TEXTURE3D_HEIGHT_ALTERNATE: 8192,\n",
    "1. MAXIMUM_TEXTURE3D_WIDTH: 16384,\n",
    "1. MAXIMUM_TEXTURE3D_WIDTH_ALTERNATE: 8192,\n",
    "1. MAXIMUM_TEXTURECUBEMAP_LAYERED_LAYERS: 2046,\n",
    "1. MAXIMUM_TEXTURECUBEMAP_LAYERED_WIDTH: 32768,\n",
    "1. MAXIMUM_TEXTURECUBEMAP_WIDTH: 32768,\n",
    "1. MAX_BLOCK_DIM_X: 1024\n",
    "    * 最大ブロックサイズ(X)\n",
    "1. MAX_BLOCK_DIM_Y: 1024\n",
    "    * 最大ブロックサイズ(Y)\n",
    "1. MAX_BLOCK_DIM_Z: 64\n",
    "    * 最大ブロックサイズ(Z)\n",
    "1. MAX_GRID_DIM_X: 2147483647\n",
    "    * 最大グリッドサイズ(X)\n",
    "1. MAX_GRID_DIM_Y: 65535\n",
    "    * 最大グリッドサイズ(Y)\n",
    "1. MAX_GRID_DIM_Z: 65535\n",
    "    * 最大グリッドサイズ(Z)\n",
    "1. MAX_PITCH: 2147483647\n",
    "    * cudaMallocPitchで指定できる最大pitchサイズ\n",
    "1. MAX_REGISTERS_PER_BLOCK: 65536\n",
    "    * ブロックごとの最大レジスタ数\n",
    "1. MAX_REGISTERS_PER_MULTIPROCESSOR: 65536\n",
    "    * SMごとの最大レジスタ数\n",
    "1. MAX_SHARED_MEMORY_PER_BLOCK: 49152\n",
    "    * ブロックごとの最大共有メモリサイズ(KB)\n",
    "1. MAX_SHARED_MEMORY_PER_MULTIPROCESSOR: 65536\n",
    "    * SMごとの最大共有メモリサイズ(KB)\n",
    "1. MAX_THREADS_PER_BLOCK: 1024\n",
    "    * ブロックごとの最大スレッド数\n",
    "1. MAX_THREADS_PER_MULTIPROCESSOR: 1024\n",
    "    * SMごとの最大スレッド数\n",
    "1. MEMORY_CLOCK_RATE: 6001000\n",
    "    * ピークメモリクロック数(kHz)\n",
    "1. MULTIPROCESSOR_COUNT: 14\n",
    "    * SM数\n",
    "1. MULTI_GPU_BOARD: 0\n",
    "    * GTX2090のように複数GPUが1ボードに載っている\n",
    "1. MULTI_GPU_BOARD_GROUP_ID: 0\n",
    "    * 複数GPUボードの識別子\n",
    "1. PCI_BUS_ID: 1\n",
    "    * PCIバスID\n",
    "1. PCI_DEVICE_ID: 0\n",
    "    * PCIデバイスID\n",
    "1. PCI_DOMAIN_ID: 0\n",
    "    * PCIドメインID\n",
    "1. STREAM_PRIORITIES_SUPPORTED: 1\n",
    "    * Streamの優先度設定がある\n",
    "1. TCC_DRIVER: 0\n",
    "    * Tesla GPUである\n",
    "1. SURFACE_ALIGNMENT: 512\n",
    "    * Surfaceメモリのアライメント要件\n",
    "1. TEXTURE_ALIGNMENT: 512\n",
    "    * Textureメモリのアライメント要件\n",
    "1. TEXTURE_PITCH_ALIGNMENT: 32\n",
    "    * Textureメモリのピッチアライメント要件\n",
    "1. TOTAL_CONSTANT_MEMORY: 65536\n",
    "    * コンスタンとメモリサイズ(KB)\n",
    "1. UNIFIED_ADDRESSING: 1\n",
    "    * UnifiedAddressでホストメモリを共有できる\n",
    "1. WARP_SIZE: 32\n",
    "    * ワープサイズ"
   ]
  },
  {
   "cell_type": "code",
   "execution_count": 7,
   "metadata": {},
   "outputs": [
    {
     "data": {
      "text/plain": [
       "{pycuda._driver.device_attribute.ASYNC_ENGINE_COUNT: 3,\n",
       " pycuda._driver.device_attribute.CAN_MAP_HOST_MEMORY: 1,\n",
       " pycuda._driver.device_attribute.CLOCK_RATE: 1605000,\n",
       " pycuda._driver.device_attribute.COMPUTE_CAPABILITY_MAJOR: 7,\n",
       " pycuda._driver.device_attribute.COMPUTE_CAPABILITY_MINOR: 5,\n",
       " pycuda._driver.device_attribute.COMPUTE_MODE: pycuda._driver.compute_mode.DEFAULT,\n",
       " pycuda._driver.device_attribute.CONCURRENT_KERNELS: 1,\n",
       " pycuda._driver.device_attribute.ECC_ENABLED: 0,\n",
       " pycuda._driver.device_attribute.GLOBAL_L1_CACHE_SUPPORTED: 1,\n",
       " pycuda._driver.device_attribute.GLOBAL_MEMORY_BUS_WIDTH: 128,\n",
       " pycuda._driver.device_attribute.GPU_OVERLAP: 1,\n",
       " pycuda._driver.device_attribute.INTEGRATED: 0,\n",
       " pycuda._driver.device_attribute.KERNEL_EXEC_TIMEOUT: 1,\n",
       " pycuda._driver.device_attribute.L2_CACHE_SIZE: 1048576,\n",
       " pycuda._driver.device_attribute.LOCAL_L1_CACHE_SUPPORTED: 1,\n",
       " pycuda._driver.device_attribute.MANAGED_MEMORY: 1,\n",
       " pycuda._driver.device_attribute.MAXIMUM_SURFACE1D_LAYERED_LAYERS: 2048,\n",
       " pycuda._driver.device_attribute.MAXIMUM_SURFACE1D_LAYERED_WIDTH: 32768,\n",
       " pycuda._driver.device_attribute.MAXIMUM_SURFACE1D_WIDTH: 32768,\n",
       " pycuda._driver.device_attribute.MAXIMUM_SURFACE2D_HEIGHT: 65536,\n",
       " pycuda._driver.device_attribute.MAXIMUM_SURFACE2D_LAYERED_HEIGHT: 32768,\n",
       " pycuda._driver.device_attribute.MAXIMUM_SURFACE2D_LAYERED_LAYERS: 2048,\n",
       " pycuda._driver.device_attribute.MAXIMUM_SURFACE2D_LAYERED_WIDTH: 32768,\n",
       " pycuda._driver.device_attribute.MAXIMUM_SURFACE2D_WIDTH: 131072,\n",
       " pycuda._driver.device_attribute.MAXIMUM_SURFACE3D_DEPTH: 16384,\n",
       " pycuda._driver.device_attribute.MAXIMUM_SURFACE3D_HEIGHT: 16384,\n",
       " pycuda._driver.device_attribute.MAXIMUM_SURFACE3D_WIDTH: 16384,\n",
       " pycuda._driver.device_attribute.MAXIMUM_SURFACECUBEMAP_LAYERED_LAYERS: 2046,\n",
       " pycuda._driver.device_attribute.MAXIMUM_SURFACECUBEMAP_LAYERED_WIDTH: 32768,\n",
       " pycuda._driver.device_attribute.MAXIMUM_SURFACECUBEMAP_WIDTH: 32768,\n",
       " pycuda._driver.device_attribute.MAXIMUM_TEXTURE1D_LAYERED_LAYERS: 2048,\n",
       " pycuda._driver.device_attribute.MAXIMUM_TEXTURE1D_LAYERED_WIDTH: 32768,\n",
       " pycuda._driver.device_attribute.MAXIMUM_TEXTURE1D_LINEAR_WIDTH: 268435456,\n",
       " pycuda._driver.device_attribute.MAXIMUM_TEXTURE1D_MIPMAPPED_WIDTH: 32768,\n",
       " pycuda._driver.device_attribute.MAXIMUM_TEXTURE1D_WIDTH: 131072,\n",
       " pycuda._driver.device_attribute.MAXIMUM_TEXTURE2D_ARRAY_HEIGHT: 32768,\n",
       " pycuda._driver.device_attribute.MAXIMUM_TEXTURE2D_ARRAY_NUMSLICES: 2048,\n",
       " pycuda._driver.device_attribute.MAXIMUM_TEXTURE2D_ARRAY_WIDTH: 32768,\n",
       " pycuda._driver.device_attribute.MAXIMUM_TEXTURE2D_GATHER_HEIGHT: 32768,\n",
       " pycuda._driver.device_attribute.MAXIMUM_TEXTURE2D_GATHER_WIDTH: 32768,\n",
       " pycuda._driver.device_attribute.MAXIMUM_TEXTURE2D_HEIGHT: 65536,\n",
       " pycuda._driver.device_attribute.MAXIMUM_TEXTURE2D_LINEAR_HEIGHT: 65000,\n",
       " pycuda._driver.device_attribute.MAXIMUM_TEXTURE2D_LINEAR_PITCH: 2097120,\n",
       " pycuda._driver.device_attribute.MAXIMUM_TEXTURE2D_LINEAR_WIDTH: 131072,\n",
       " pycuda._driver.device_attribute.MAXIMUM_TEXTURE2D_MIPMAPPED_HEIGHT: 32768,\n",
       " pycuda._driver.device_attribute.MAXIMUM_TEXTURE2D_MIPMAPPED_WIDTH: 32768,\n",
       " pycuda._driver.device_attribute.MAXIMUM_TEXTURE2D_WIDTH: 131072,\n",
       " pycuda._driver.device_attribute.MAXIMUM_TEXTURE3D_DEPTH: 16384,\n",
       " pycuda._driver.device_attribute.MAXIMUM_TEXTURE3D_DEPTH_ALTERNATE: 32768,\n",
       " pycuda._driver.device_attribute.MAXIMUM_TEXTURE3D_HEIGHT: 16384,\n",
       " pycuda._driver.device_attribute.MAXIMUM_TEXTURE3D_HEIGHT_ALTERNATE: 8192,\n",
       " pycuda._driver.device_attribute.MAXIMUM_TEXTURE3D_WIDTH: 16384,\n",
       " pycuda._driver.device_attribute.MAXIMUM_TEXTURE3D_WIDTH_ALTERNATE: 8192,\n",
       " pycuda._driver.device_attribute.MAXIMUM_TEXTURECUBEMAP_LAYERED_LAYERS: 2046,\n",
       " pycuda._driver.device_attribute.MAXIMUM_TEXTURECUBEMAP_LAYERED_WIDTH: 32768,\n",
       " pycuda._driver.device_attribute.MAXIMUM_TEXTURECUBEMAP_WIDTH: 32768,\n",
       " pycuda._driver.device_attribute.MAX_BLOCK_DIM_X: 1024,\n",
       " pycuda._driver.device_attribute.MAX_BLOCK_DIM_Y: 1024,\n",
       " pycuda._driver.device_attribute.MAX_BLOCK_DIM_Z: 64,\n",
       " pycuda._driver.device_attribute.MAX_GRID_DIM_X: 2147483647,\n",
       " pycuda._driver.device_attribute.MAX_GRID_DIM_Y: 65535,\n",
       " pycuda._driver.device_attribute.MAX_GRID_DIM_Z: 65535,\n",
       " pycuda._driver.device_attribute.MAX_PITCH: 2147483647,\n",
       " pycuda._driver.device_attribute.MAX_REGISTERS_PER_BLOCK: 65536,\n",
       " pycuda._driver.device_attribute.MAX_REGISTERS_PER_MULTIPROCESSOR: 65536,\n",
       " pycuda._driver.device_attribute.MAX_SHARED_MEMORY_PER_BLOCK: 49152,\n",
       " pycuda._driver.device_attribute.MAX_SHARED_MEMORY_PER_MULTIPROCESSOR: 65536,\n",
       " pycuda._driver.device_attribute.MAX_THREADS_PER_BLOCK: 1024,\n",
       " pycuda._driver.device_attribute.MAX_THREADS_PER_MULTIPROCESSOR: 1024,\n",
       " pycuda._driver.device_attribute.MEMORY_CLOCK_RATE: 6001000,\n",
       " pycuda._driver.device_attribute.MULTIPROCESSOR_COUNT: 14,\n",
       " pycuda._driver.device_attribute.MULTI_GPU_BOARD: 0,\n",
       " pycuda._driver.device_attribute.MULTI_GPU_BOARD_GROUP_ID: 0,\n",
       " pycuda._driver.device_attribute.PCI_BUS_ID: 1,\n",
       " pycuda._driver.device_attribute.PCI_DEVICE_ID: 0,\n",
       " pycuda._driver.device_attribute.PCI_DOMAIN_ID: 0,\n",
       " pycuda._driver.device_attribute.STREAM_PRIORITIES_SUPPORTED: 1,\n",
       " pycuda._driver.device_attribute.SURFACE_ALIGNMENT: 512,\n",
       " pycuda._driver.device_attribute.TCC_DRIVER: 0,\n",
       " pycuda._driver.device_attribute.TEXTURE_ALIGNMENT: 512,\n",
       " pycuda._driver.device_attribute.TEXTURE_PITCH_ALIGNMENT: 32,\n",
       " pycuda._driver.device_attribute.TOTAL_CONSTANT_MEMORY: 65536,\n",
       " pycuda._driver.device_attribute.UNIFIED_ADDRESSING: 1,\n",
       " pycuda._driver.device_attribute.WARP_SIZE: 32}"
      ]
     },
     "execution_count": 7,
     "metadata": {},
     "output_type": "execute_result"
    }
   ],
   "source": [
    "dev.get_attributes()"
   ]
  },
  {
   "cell_type": "code",
   "execution_count": 8,
   "metadata": {},
   "outputs": [
    {
     "data": {
      "text/plain": [
       "32"
      ]
     },
     "execution_count": 8,
     "metadata": {},
     "output_type": "execute_result"
    }
   ],
   "source": [
    "# attributeの取得例\n",
    "dev.get_attribute(pycuda._driver.device_attribute.WARP_SIZE)"
   ]
  },
  {
   "cell_type": "markdown",
   "metadata": {},
   "source": [
    "# PyCudaの動作確認\n"
   ]
  },
  {
   "cell_type": "code",
   "execution_count": 9,
   "metadata": {},
   "outputs": [],
   "source": [
    "devdat = pycuda.tools.DeviceData()"
   ]
  },
  {
   "cell_type": "code",
   "execution_count": 10,
   "metadata": {},
   "outputs": [
    {
     "name": "stdout",
     "output_type": "stream",
     "text": [
      "1ブロック当たりの最大スレッド数: 1024\n"
     ]
    }
   ],
   "source": [
    "print(\"1ブロック当たりの最大スレッド数: {}\".format(devdat.max_threads))"
   ]
  },
  {
   "cell_type": "code",
   "execution_count": 11,
   "metadata": {},
   "outputs": [
    {
     "name": "stdout",
     "output_type": "stream",
     "text": [
      "ワープサイズ: 32\n"
     ]
    }
   ],
   "source": [
    "print(\"ワープサイズ: {}\".format(devdat.warp_size))"
   ]
  },
  {
   "cell_type": "code",
   "execution_count": 12,
   "metadata": {},
   "outputs": [
    {
     "name": "stdout",
     "output_type": "stream",
     "text": [
      "1SMの最大ワープ数: 64\n"
     ]
    }
   ],
   "source": [
    "print(\"1SMの最大ワープ数: {}\".format(devdat.warps_per_mp))"
   ]
  },
  {
   "cell_type": "code",
   "execution_count": 13,
   "metadata": {},
   "outputs": [
    {
     "name": "stdout",
     "output_type": "stream",
     "text": [
      "1SMの最大ブロック数: 8\n"
     ]
    }
   ],
   "source": [
    "print(\"1SMの最大ブロック数: {}\".format(devdat.thread_blocks_per_mp))"
   ]
  },
  {
   "cell_type": "code",
   "execution_count": 14,
   "metadata": {},
   "outputs": [
    {
     "name": "stdout",
     "output_type": "stream",
     "text": [
      "1SM当たりのレジスタサイズ: 65536\n"
     ]
    }
   ],
   "source": [
    "print(\"1SM当たりのレジスタサイズ: {}\".format(devdat.registers))"
   ]
  },
  {
   "cell_type": "code",
   "execution_count": 15,
   "metadata": {},
   "outputs": [
    {
     "name": "stdout",
     "output_type": "stream",
     "text": [
      "1SM当たりの共有メモリサイズ: 49152\n"
     ]
    }
   ],
   "source": [
    "print(\"1SM当たりの共有メモリサイズ: {}\".format(devdat.shared_memory))"
   ]
  },
  {
   "cell_type": "code",
   "execution_count": 16,
   "metadata": {},
   "outputs": [
    {
     "name": "stdout",
     "output_type": "stream",
     "text": [
      "共有メモリのバンクサイズ: 128 byte\n"
     ]
    }
   ],
   "source": [
    "print(\"共有メモリのバンクサイズ: {} byte\".format(devdat.smem_alloc_granularity))"
   ]
  },
  {
   "cell_type": "code",
   "execution_count": 17,
   "metadata": {},
   "outputs": [
    {
     "name": "stdout",
     "output_type": "stream",
     "text": [
      "共有メモリのバンク数: 32\n"
     ]
    }
   ],
   "source": [
    "print(\"共有メモリのバンク数: {}\".format(devdat.smem_granularity))"
   ]
  },
  {
   "cell_type": "code",
   "execution_count": 18,
   "metadata": {},
   "outputs": [
    {
     "name": "stdout",
     "output_type": "stream",
     "text": [
      "コアレスアクセスを実現するためのメモリ境界: 64\n"
     ]
    }
   ],
   "source": [
    "print(\"コアレスアクセスを実現するためのメモリ境界: {}\".format(devdat.align_bytes(word_size = 4)))"
   ]
  },
  {
   "cell_type": "code",
   "execution_count": 24,
   "metadata": {},
   "outputs": [
    {
     "name": "stdout",
     "output_type": "stream",
     "text": [
      "コアレスアクセスを実現するためのメモリ境界(byte指定): 1024\n"
     ]
    }
   ],
   "source": [
    "print(\"コアレスアクセスを実現するためのメモリ境界(byte指定): {}\".format(devdat.align(1013, word_size = 4)))"
   ]
  },
  {
   "cell_type": "code",
   "execution_count": 31,
   "metadata": {},
   "outputs": [
    {
     "name": "stdout",
     "output_type": "stream",
     "text": [
      "コアレスアクセスを実現するための要素数境界: 16\n"
     ]
    }
   ],
   "source": [
    "print(\"コアレスアクセスを実現するための要素数境界: {}\".format(devdat.align_words(word_size = 4)))"
   ]
  },
  {
   "cell_type": "code",
   "execution_count": 29,
   "metadata": {},
   "outputs": [
    {
     "name": "stdout",
     "output_type": "stream",
     "text": [
      "コアレスアクセスを実現するためのメモリ境界(要素数指定): 1024\n"
     ]
    }
   ],
   "source": [
    "print(\"コアレスアクセスを実現するための要素数境界(要素数指定): {}\".format(devdat.align_dtype(1013, dtype_size = 4)))"
   ]
  },
  {
   "cell_type": "code",
   "execution_count": 33,
   "metadata": {},
   "outputs": [],
   "source": [
    "record = pycuda.tools.OccupancyRecord(devdat, threads=1024, shared_mem = 1024, registers = 32)"
   ]
  },
  {
   "cell_type": "code",
   "execution_count": 40,
   "metadata": {},
   "outputs": [
    {
     "name": "stdout",
     "output_type": "stream",
     "text": [
      "SMごとに実行可能なThreadBlock数: 2\n"
     ]
    }
   ],
   "source": [
    "print(\"SMごとに実行可能なThreadBlock数: {}\".format(record.tb_per_mp))"
   ]
  },
  {
   "cell_type": "code",
   "execution_count": 42,
   "metadata": {},
   "outputs": [
    {
     "name": "stdout",
     "output_type": "stream",
     "text": [
      "Occupancyを制限しているリソース: regs\n"
     ]
    }
   ],
   "source": [
    "print(\"Occupancyを制限しているリソース: {}\".format(record.limited_by))"
   ]
  },
  {
   "cell_type": "code",
   "execution_count": 43,
   "metadata": {},
   "outputs": [
    {
     "name": "stdout",
     "output_type": "stream",
     "text": [
      "SMごとに実行可能なワープ数: 64\n"
     ]
    }
   ],
   "source": [
    "print(\"SMごとに実行可能なワープ数: {}\".format(record.warps_per_mp))"
   ]
  },
  {
   "cell_type": "code",
   "execution_count": 45,
   "metadata": {},
   "outputs": [
    {
     "name": "stdout",
     "output_type": "stream",
     "text": [
      "計算上でのOccupancy: 1.0\n"
     ]
    }
   ],
   "source": [
    "print(\"計算上でのOccupancy: {}\".format(record.occupancy))"
   ]
  },
  {
   "cell_type": "code",
   "execution_count": 51,
   "metadata": {},
   "outputs": [
    {
     "name": "stdout",
     "output_type": "stream",
     "text": [
      "CUDA Driverバージョン: (11, 1, 0)\n"
     ]
    }
   ],
   "source": [
    "print(\"CUDA Driverバージョン: {}\".format(pycuda.driver.get_version()))"
   ]
  },
  {
   "cell_type": "code",
   "execution_count": 52,
   "metadata": {},
   "outputs": [
    {
     "name": "stdout",
     "output_type": "stream",
     "text": [
      "CUDA Driverバージョン: 11010\n"
     ]
    }
   ],
   "source": [
    "print(\"CUDA Driverバージョン: {}\".format(pycuda.driver.get_driver_version()))"
   ]
  },
  {
   "cell_type": "code",
   "execution_count": 53,
   "metadata": {},
   "outputs": [
    {
     "name": "stdout",
     "output_type": "stream",
     "text": [
      "CUDAデバイス数: 1\n"
     ]
    }
   ],
   "source": [
    "print(\"CUDAデバイス数: {}\".format(pycuda.driver.Device.count()))"
   ]
  }
 ],
 "metadata": {
  "kernelspec": {
   "display_name": "Python 3",
   "language": "python",
   "name": "python3"
  },
  "language_info": {
   "codemirror_mode": {
    "name": "ipython",
    "version": 3
   },
   "file_extension": ".py",
   "mimetype": "text/x-python",
   "name": "python",
   "nbconvert_exporter": "python",
   "pygments_lexer": "ipython3",
   "version": "3.8.5"
  }
 },
 "nbformat": 4,
 "nbformat_minor": 4
}
